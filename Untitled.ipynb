{
 "cells": [
  {
   "cell_type": "code",
   "execution_count": 1,
   "id": "8d8084cf",
   "metadata": {},
   "outputs": [],
   "source": [
    "import pandas as pd \n",
    "import numpy as np\n",
    "import seaborn as sns\n",
    "import matplotlib.pyplot as plt \n",
    "%matplotlib inline\n",
    "\n",
    "from lightgbm import LGBMClassifier\n",
    "from sklearn.linear_model import RidgeClassifierCV\n",
    "from xgboost import XGBClassifier\n",
    "from sklearn.neighbors import NearestCentroid\n",
    "from sklearn.discriminant_analysis import QuadraticDiscriminantAnalysis\n",
    "from sklearn.calibration import CalibratedClassifierCV\n",
    "from sklearn.naive_bayes import BernoulliNB\n",
    "from sklearn.ensemble import BaggingClassifier\n",
    "from sklearn.linear_model import LogisticRegression\n",
    "from sklearn.svm import SVC\n",
    "from sklearn.svm import LinearSVC\n",
    "from sklearn.neighbors import KNeighborsClassifier\n",
    "from sklearn.naive_bayes import GaussianNB\n",
    "from sklearn.linear_model import Perceptron\n",
    "from sklearn.linear_model import SGDClassifier\n",
    "from sklearn.tree import DecisionTreeClassifier\n",
    "from sklearn.ensemble import RandomForestClassifier\n",
    "from sklearn.neural_network import MLPClassifier\n",
    "import xgboost as Xgb\n",
    "from sklearn.ensemble import ExtraTreesClassifier\n",
    "from sklearn.ensemble import AdaBoostClassifier\n",
    "import lightgbm as lgb\n",
    "from sklearn.svm import NuSVC\n",
    "from sklearn.experimental import enable_hist_gradient_boosting\n",
    "from sklearn.gaussian_process import GaussianProcessClassifier\n",
    "from sklearn.gaussian_process.kernels import RBF\n",
    "from sklearn.linear_model import RidgeClassifier\n",
    "from sklearn.calibration import CalibratedClassifierCV\n",
    "from sklearn.linear_model import PassiveAggressiveClassifier\n",
    "\n",
    "\n",
    "from sklearn.metrics import accuracy_score, classification_report,f1_score,confusion_matrix,precision_score,recall_score,balanced_accuracy_score\n",
    "from sklearn.metrics import confusion_matrix, plot_confusion_matrix, plot_roc_curve, plot_precision_recall_curve,roc_auc_score\n",
    "\n",
    "import warnings\n",
    "warnings.filterwarnings(\"ignore\")\n"
   ]
  },
  {
   "cell_type": "code",
   "execution_count": 2,
   "id": "d98f8eaa",
   "metadata": {},
   "outputs": [],
   "source": [
    "#Default theme\n",
    "sns.set_theme(palette='tab10',\n",
    "              font='Comic Sans MS',\n",
    "              font_scale=1.5,\n",
    "              rc=None)\n",
    "\n",
    "import matplotlib\n",
    "matplotlib.rcParams.update({'font.size': 15})\n",
    "plt.style.use('dark_background')\n",
    "plt.rcParams[\"axes.grid\"] = False"
   ]
  },
  {
   "cell_type": "code",
   "execution_count": 3,
   "id": "1abbcd91",
   "metadata": {},
   "outputs": [
    {
     "data": {
      "text/html": [
       "<div>\n",
       "<style scoped>\n",
       "    .dataframe tbody tr th:only-of-type {\n",
       "        vertical-align: middle;\n",
       "    }\n",
       "\n",
       "    .dataframe tbody tr th {\n",
       "        vertical-align: top;\n",
       "    }\n",
       "\n",
       "    .dataframe thead th {\n",
       "        text-align: right;\n",
       "    }\n",
       "</style>\n",
       "<table border=\"1\" class=\"dataframe\">\n",
       "  <thead>\n",
       "    <tr style=\"text-align: right;\">\n",
       "      <th></th>\n",
       "      <th>Temp</th>\n",
       "      <th>RH</th>\n",
       "      <th>NO2</th>\n",
       "      <th>NO</th>\n",
       "      <th>O3</th>\n",
       "      <th>SO2</th>\n",
       "      <th>PM2.5</th>\n",
       "      <th>Benzene</th>\n",
       "      <th>Toluene</th>\n",
       "      <th>CO</th>\n",
       "      <th>Xylene</th>\n",
       "      <th>NH3</th>\n",
       "      <th>PM10</th>\n",
       "      <th>target</th>\n",
       "    </tr>\n",
       "  </thead>\n",
       "  <tbody>\n",
       "    <tr>\n",
       "      <th>0</th>\n",
       "      <td>13.6</td>\n",
       "      <td>48.9</td>\n",
       "      <td>113</td>\n",
       "      <td>125</td>\n",
       "      <td>1268</td>\n",
       "      <td>27.64</td>\n",
       "      <td>73.24</td>\n",
       "      <td>168</td>\n",
       "      <td>0</td>\n",
       "      <td>2.6</td>\n",
       "      <td>2</td>\n",
       "      <td>2</td>\n",
       "      <td>141.54</td>\n",
       "      <td>0</td>\n",
       "    </tr>\n",
       "    <tr>\n",
       "      <th>1</th>\n",
       "      <td>13.3</td>\n",
       "      <td>47.7</td>\n",
       "      <td>92</td>\n",
       "      <td>140</td>\n",
       "      <td>972</td>\n",
       "      <td>24.55</td>\n",
       "      <td>83.13</td>\n",
       "      <td>155</td>\n",
       "      <td>1</td>\n",
       "      <td>2.0</td>\n",
       "      <td>0</td>\n",
       "      <td>0</td>\n",
       "      <td>122.41</td>\n",
       "      <td>0</td>\n",
       "    </tr>\n",
       "    <tr>\n",
       "      <th>2</th>\n",
       "      <td>11.9</td>\n",
       "      <td>54.0</td>\n",
       "      <td>114</td>\n",
       "      <td>145</td>\n",
       "      <td>1074</td>\n",
       "      <td>29.07</td>\n",
       "      <td>79.84</td>\n",
       "      <td>125</td>\n",
       "      <td>1</td>\n",
       "      <td>2.2</td>\n",
       "      <td>0</td>\n",
       "      <td>0</td>\n",
       "      <td>116.32</td>\n",
       "      <td>0</td>\n",
       "    </tr>\n",
       "    <tr>\n",
       "      <th>3</th>\n",
       "      <td>11.0</td>\n",
       "      <td>60.0</td>\n",
       "      <td>122</td>\n",
       "      <td>148</td>\n",
       "      <td>1203</td>\n",
       "      <td>18.59</td>\n",
       "      <td>94.52</td>\n",
       "      <td>161</td>\n",
       "      <td>0</td>\n",
       "      <td>2.2</td>\n",
       "      <td>2</td>\n",
       "      <td>1</td>\n",
       "      <td>130.07</td>\n",
       "      <td>0</td>\n",
       "    </tr>\n",
       "    <tr>\n",
       "      <th>4</th>\n",
       "      <td>11.2</td>\n",
       "      <td>59.6</td>\n",
       "      <td>116</td>\n",
       "      <td>138</td>\n",
       "      <td>1110</td>\n",
       "      <td>39.33</td>\n",
       "      <td>135.99</td>\n",
       "      <td>106</td>\n",
       "      <td>0</td>\n",
       "      <td>1.6</td>\n",
       "      <td>1</td>\n",
       "      <td>3</td>\n",
       "      <td>138.31</td>\n",
       "      <td>0</td>\n",
       "    </tr>\n",
       "  </tbody>\n",
       "</table>\n",
       "</div>"
      ],
      "text/plain": [
       "   Temp    RH  NO2   NO    O3    SO2   PM2.5  Benzene  Toluene   CO  Xylene  \\\n",
       "0  13.6  48.9  113  125  1268  27.64   73.24      168        0  2.6       2   \n",
       "1  13.3  47.7   92  140   972  24.55   83.13      155        1  2.0       0   \n",
       "2  11.9  54.0  114  145  1074  29.07   79.84      125        1  2.2       0   \n",
       "3  11.0  60.0  122  148  1203  18.59   94.52      161        0  2.2       2   \n",
       "4  11.2  59.6  116  138  1110  39.33  135.99      106        0  1.6       1   \n",
       "\n",
       "   NH3    PM10  target  \n",
       "0    2  141.54       0  \n",
       "1    0  122.41       0  \n",
       "2    0  116.32       0  \n",
       "3    1  130.07       0  \n",
       "4    3  138.31       0  "
      ]
     },
     "execution_count": 3,
     "metadata": {},
     "output_type": "execute_result"
    }
   ],
   "source": [
    "df = pd.read_csv(\"air_quality.csv\")\n",
    "df.head()"
   ]
  },
  {
   "cell_type": "code",
   "execution_count": 4,
   "id": "dc0695e2",
   "metadata": {},
   "outputs": [],
   "source": [
    "# Split the dataset and prepare some lists to store the models\n",
    "from sklearn.model_selection import train_test_split\n",
    "X = df.drop(['target'], axis=1)\n",
    "y = df.target\n",
    "\n",
    "X_train, X_test, y_train, y_test = train_test_split(X, y, test_size=0.25, random_state = 42) "
   ]
  },
  {
   "cell_type": "code",
   "execution_count": 5,
   "id": "32a34327",
   "metadata": {},
   "outputs": [],
   "source": [
    "models = []\n",
    "\n",
    "names = [\"XGBClassifier\",\"LogisticRegression\",\"KNeighborsClassifier\",\"GaussianNB\",\"RandomForestClassifier\"]"
   ]
  },
  {
   "cell_type": "code",
   "execution_count": 6,
   "id": "162e2609",
   "metadata": {},
   "outputs": [],
   "source": [
    "scores = []\n",
    "\n",
    "clf =[XGBClassifier(),LogisticRegression(),KNeighborsClassifier(),GaussianNB(),RandomForestClassifier()]"
   ]
  },
  {
   "cell_type": "code",
   "execution_count": 7,
   "id": "8b5003db",
   "metadata": {},
   "outputs": [
    {
     "name": "stdout",
     "output_type": "stream",
     "text": [
      "CPU times: total: 812 ms\n",
      "Wall time: 2.52 s\n"
     ]
    }
   ],
   "source": [
    "%%time\n",
    "for model in clf:\n",
    "    model.fit(X_train, y_train)\n",
    "    score = model.score(X_test, y_test)\n",
    "    scores.append(score)\n",
    " \n",
    "final_scores = pd.DataFrame(zip(names,scores), columns=['Classifier', 'Accuracy'])"
   ]
  },
  {
   "cell_type": "code",
   "execution_count": 8,
   "id": "4552db9f",
   "metadata": {},
   "outputs": [
    {
     "data": {
      "text/html": [
       "<style type=\"text/css\">\n",
       "#T_731a3_row0_col0, #T_731a3_row1_col0, #T_731a3_row2_col0, #T_731a3_row3_col0, #T_731a3_row4_col0 {\n",
       "  font-family: Comic Sans MS;\n",
       "  color: Brown;\n",
       "  font-size: 15px;\n",
       "}\n",
       "#T_731a3_row0_col1 {\n",
       "  background-color: #ffc77f;\n",
       "  color: #000000;\n",
       "  font-family: Comic Sans MS;\n",
       "  color: Brown;\n",
       "  font-size: 15px;\n",
       "}\n",
       "#T_731a3_row1_col1 {\n",
       "  background-color: #ffb170;\n",
       "  color: #000000;\n",
       "  font-family: Comic Sans MS;\n",
       "  color: Brown;\n",
       "  font-size: 15px;\n",
       "}\n",
       "#T_731a3_row2_col1 {\n",
       "  background-color: #b27048;\n",
       "  color: #f1f1f1;\n",
       "  font-family: Comic Sans MS;\n",
       "  color: Brown;\n",
       "  font-size: 15px;\n",
       "}\n",
       "#T_731a3_row3_col1 {\n",
       "  background-color: #8e5a39;\n",
       "  color: #f1f1f1;\n",
       "  font-family: Comic Sans MS;\n",
       "  color: Brown;\n",
       "  font-size: 15px;\n",
       "}\n",
       "#T_731a3_row4_col1 {\n",
       "  background-color: #000000;\n",
       "  color: #f1f1f1;\n",
       "  font-family: Comic Sans MS;\n",
       "  color: Brown;\n",
       "  font-size: 15px;\n",
       "}\n",
       "</style>\n",
       "<table id=\"T_731a3\">\n",
       "  <thead>\n",
       "    <tr>\n",
       "      <th class=\"blank level0\" >&nbsp;</th>\n",
       "      <th id=\"T_731a3_level0_col0\" class=\"col_heading level0 col0\" >Classifier</th>\n",
       "      <th id=\"T_731a3_level0_col1\" class=\"col_heading level0 col1\" >Accuracy</th>\n",
       "    </tr>\n",
       "  </thead>\n",
       "  <tbody>\n",
       "    <tr>\n",
       "      <th id=\"T_731a3_level0_row0\" class=\"row_heading level0 row0\" >0</th>\n",
       "      <td id=\"T_731a3_row0_col0\" class=\"data row0 col0\" >XGBClassifier</td>\n",
       "      <td id=\"T_731a3_row0_col1\" class=\"data row0 col1\" >0.859922</td>\n",
       "    </tr>\n",
       "    <tr>\n",
       "      <th id=\"T_731a3_level0_row1\" class=\"row_heading level0 row1\" >4</th>\n",
       "      <td id=\"T_731a3_row1_col0\" class=\"data row1 col0\" >RandomForestClassifier</td>\n",
       "      <td id=\"T_731a3_row1_col1\" class=\"data row1 col1\" >0.828794</td>\n",
       "    </tr>\n",
       "    <tr>\n",
       "      <th id=\"T_731a3_level0_row2\" class=\"row_heading level0 row2\" >3</th>\n",
       "      <td id=\"T_731a3_row2_col0\" class=\"data row2 col0\" >GaussianNB</td>\n",
       "      <td id=\"T_731a3_row2_col1\" class=\"data row2 col1\" >0.743191</td>\n",
       "    </tr>\n",
       "    <tr>\n",
       "      <th id=\"T_731a3_level0_row3\" class=\"row_heading level0 row3\" >1</th>\n",
       "      <td id=\"T_731a3_row3_col0\" class=\"data row3 col0\" >LogisticRegression</td>\n",
       "      <td id=\"T_731a3_row3_col1\" class=\"data row3 col1\" >0.712062</td>\n",
       "    </tr>\n",
       "    <tr>\n",
       "      <th id=\"T_731a3_level0_row4\" class=\"row_heading level0 row4\" >2</th>\n",
       "      <td id=\"T_731a3_row4_col0\" class=\"data row4 col0\" >KNeighborsClassifier</td>\n",
       "      <td id=\"T_731a3_row4_col1\" class=\"data row4 col1\" >0.591440</td>\n",
       "    </tr>\n",
       "  </tbody>\n",
       "</table>\n"
      ],
      "text/plain": [
       "<pandas.io.formats.style.Styler at 0x277590de9a0>"
      ]
     },
     "execution_count": 8,
     "metadata": {},
     "output_type": "execute_result"
    }
   ],
   "source": [
    "final_scores.sort_values(by='Accuracy',ascending=False).style.background_gradient(cmap=\"copper\").set_properties(**{\n",
    "            'font-family': 'Comic Sans MS',\n",
    "            'color': 'Brown',\n",
    "            'font-size': '15px',\"color\": \"Brown\"\n",
    "        })"
   ]
  },
  {
   "cell_type": "code",
   "execution_count": 9,
   "id": "a16a27a8",
   "metadata": {},
   "outputs": [
    {
     "data": {
      "text/plain": [
       "RandomForestClassifier()"
      ]
     },
     "execution_count": 9,
     "metadata": {},
     "output_type": "execute_result"
    }
   ],
   "source": [
    "import pickle\n",
    "pickle.dump(model,open(\"train_model.pkl\",\"wb\"))\n",
    "pickle.load(open(\"train_model.pkl\",\"rb\"))"
   ]
  },
  {
   "cell_type": "code",
   "execution_count": 10,
   "id": "b6284eb0",
   "metadata": {},
   "outputs": [
    {
     "data": {
      "text/plain": [
       "array([[106,  26],\n",
       "       [ 18, 107]], dtype=int64)"
      ]
     },
     "execution_count": 10,
     "metadata": {},
     "output_type": "execute_result"
    }
   ],
   "source": [
    "y_pred=model.predict(X_test)\n",
    "y_true=y_test\n",
    "\n",
    "from sklearn.metrics import confusion_matrix\n",
    "cm=confusion_matrix(y_true,y_pred)\n",
    "cm"
   ]
  },
  {
   "cell_type": "code",
   "execution_count": 11,
   "id": "ce89f19f",
   "metadata": {},
   "outputs": [
    {
     "data": {
      "image/png": "[encoded data removed]",
      "text/plain": [
       "<Figure size 500x500 with 2 Axes>"
      ]
     },
     "metadata": {},
     "output_type": "display_data"
    }
   ],
   "source": [
    "#confusion matrix visualization\n",
    "import seaborn as sns\n",
    "import matplotlib.pyplot as plt\n",
    "\n",
    "f, ax=plt.subplots(figsize=(5,5))\n",
    "sns.heatmap(cm,annot=True,linewidths=0.5,linecolor=\"red\",fmt=\".0f\",ax=ax)\n",
    "plt.xlabel(\"y_pred\")\n",
    "plt.ylabel(\"y_true\")\n",
    "plt.show()"
   ]
  },
  {
   "cell_type": "code",
   "execution_count": 12,
   "id": "860b4044",
   "metadata": {},
   "outputs": [
    {
     "name": "stdout",
     "output_type": "stream",
     "text": [
      "Accuracy  : 0.8287937743190662\n",
      "Precision : 0.8045112781954887\n",
      "Recall    : 0.856\n",
      "F1-score  : 0.8294573643410852\n"
     ]
    }
   ],
   "source": [
    "accuracy = accuracy_score(y_true,y_pred)\n",
    "print(\"Accuracy  :\", accuracy)\n",
    "precision = precision_score(y_true,y_pred)\n",
    "print(\"Precision :\", precision)\n",
    "recall = recall_score(y_true,y_pred)\n",
    "print(\"Recall    :\", recall)\n",
    "F1_score = f1_score(y_true,y_pred)\n",
    "print(\"F1-score  :\", F1_score)"
   ]
  },
  {
   "cell_type": "code",
   "execution_count": null,
   "id": "63b59998",
   "metadata": {},
   "outputs": [],
   "source": []
  },
  {
   "cell_type": "code",
   "execution_count": null,
   "id": "b961b494",
   "metadata": {},
   "outputs": [],
   "source": []
  }
 ],
 "metadata": {
  "kernelspec": {
   "display_name": "Python 3 (ipykernel)",
   "language": "python",
   "name": "python3"
  },
  "language_info": {
   "codemirror_mode": {
    "name": "ipython",
    "version": 3
   },
   "file_extension": ".py",
   "mimetype": "text/x-python",
   "name": "python",
   "nbconvert_exporter": "python",
   "pygments_lexer": "ipython3",
   "version": "3.8.18"
  }
 },
 "nbformat": 4,
 "nbformat_minor": 5
}
